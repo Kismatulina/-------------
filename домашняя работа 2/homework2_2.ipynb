{
  "cells": [
    {
      "cell_type": "code",
      "execution_count": 4,
      "metadata": {
        "trusted": true
      },
      "outputs": [
        {
          "data": {
            "text/plain": [
              "0.13528114551440706"
            ]
          },
          "execution_count": 4,
          "metadata": {},
          "output_type": "execute_result"
        }
      ],
      "source": [
        "# з2.Вероятность того, что лампочка перегорит в течение первого дня эксплуатации, равна 0.0004. В жилом комплексе после ремонта в один день\n",
        "# включили 5000 новых лампочек. Какова вероятность, что ни одна из них не перегорит в первый день? Какова вероятность, что перегорят ровно две?\n",
        "from math import factorial\n",
        "\n",
        "def combinations(n, k):\n",
        "\n",
        "    return int(factorial(n) / (factorial(k) * factorial(n - k)))\n",
        "\n",
        "n = 5000\n",
        "\n",
        "p = 0.0004\n",
        "\n",
        "k = 0 # ни одна из них не перегорит\n",
        "\n",
        "P_0 = combinations(n, k) * p ** k * (1 - p) ** (n - k)\n",
        "\n",
        "P_0  #нашли вероятность того что событие произойдет К раз из N\n"
      ]
    },
    {
      "cell_type": "code",
      "execution_count": 5,
      "metadata": {
        "trusted": true
      },
      "outputs": [
        {
          "data": {
            "text/plain": [
              "0.2707247150266753"
            ]
          },
          "execution_count": 5,
          "metadata": {},
          "output_type": "execute_result"
        }
      ],
      "source": [
        "from math import factorial\n",
        "\n",
        "def combinations(n, k):\n",
        "\n",
        "    return int(factorial(n) / (factorial(k) * factorial(n - k)))\n",
        "\n",
        "n = 5000\n",
        "\n",
        "p = 0.0004\n",
        "\n",
        "k = 2 #  перегорит две лампочки\n",
        "\n",
        "P_1 = combinations(n, k) * p ** k * (1 - p) ** (n - k)\n",
        "\n",
        "P_1  #нашли вероятность того что событие произойдет К раз из N\n"
      ]
    },
    {
      "cell_type": "code",
      "execution_count": 6,
      "metadata": {},
      "outputs": [
        {
          "data": {
            "text/plain": [
              "0.048061793700746355"
            ]
          },
          "execution_count": 6,
          "metadata": {},
          "output_type": "execute_result"
        }
      ],
      "source": [
        "#з1. Вероятность того, что стрелок попадет в мишень, выстрелив один раз, равна 0.8. Стрелок выстрелил 100 раз. Найдите вероятность того,\n",
        "#что стрелок попадет в цель ровно 85 раз.\n",
        "from math import factorial\n",
        "def combinations(n, k):\n",
        "    return int(factorial(n) / (factorial(k) * factorial(n - k)))\n",
        "n = 100\n",
        "p = 0.8\n",
        "k = 85 # \n",
        "P_0 = combinations(n, k) * p ** k * (1 - p) ** (n - k)\n",
        "P_0  #нашли вероятность того, что стрелок попадет в цель"
      ]
    },
    {
      "cell_type": "code",
      "execution_count": 9,
      "metadata": {},
      "outputs": [
        {
          "data": {
            "text/plain": [
              "0.06281178035144776"
            ]
          },
          "execution_count": 9,
          "metadata": {},
          "output_type": "execute_result"
        }
      ],
      "source": [
        "#з3. Монету подбросили 144 раза. Какова вероятность, что орел выпадет ровно 70 раз?\n",
        "def bernuli(n, p, k):\n",
        "    return combinations(n, k) * p ** k * (1 - p) ** (n - k)\n",
        "p_0 = bernuli(144, 0.5, 0) #проверили вероятность 0 выпадений\n",
        "p_70 = bernuli(144, 0.5, 70)  #проверили вероятность 70 выпадения\n",
        "P = p_0 + p_70\n",
        "P\n",
        "P = bernuli (144, 0.5, 70)\n",
        "P"
      ]
    },
    {
      "cell_type": "markdown",
      "metadata": {},
      "source": [
        "4. В первом ящике находится 10 мячей, из которых 7 - белые. Во втором ящике - 11 мячей, из которых 9 белых. Из каждого ящика вытаскивают случайным образом по два мяча. \n",
        "Какова вероятность того, что все мячи белые? \n",
        "Какова вероятность того, что ровно два мяча белые? \n",
        "Какова вероятность того, что хотя бы один мяч белый?"
      ]
    },
    {
      "cell_type": "markdown",
      "metadata": {},
      "source": [
        "4.1 Какова вероятность того, что все мячи белые?"
      ]
    },
    {
      "cell_type": "code",
      "execution_count": 10,
      "metadata": {},
      "outputs": [
        {
          "data": {
            "text/plain": [
              "0.3054545454545455"
            ]
          },
          "execution_count": 10,
          "metadata": {},
          "output_type": "execute_result"
        }
      ],
      "source": [
        "(7*6*9*8)/(10*9*11*10)"
      ]
    },
    {
      "cell_type": "markdown",
      "metadata": {},
      "source": [
        "4.2 Какова вероятность того, что ровно два мяча белые?\n",
        "\n",
        "6 возможных вариантов = (бб)(чч)+(бч)(бч)+(бч)(чб)+(чб)(бч)+(чб)(чб)+(чч)(бб)"
      ]
    },
    {
      "cell_type": "code",
      "execution_count": 11,
      "metadata": {},
      "outputs": [
        {
          "data": {
            "text/plain": [
              "0.20484848484848484"
            ]
          },
          "execution_count": 11,
          "metadata": {},
          "output_type": "execute_result"
        }
      ],
      "source": [
        "(7/10)*(6/9)*(2/11)*(1/10) + (7/10)*(3/9)*(9/11)*(2/10) + (7/10)*(3/9)*(2/11)*(9/10) + \\\n",
        "(3/10)*(7/9)*(9/11)*(2/10) + (3/10)*(7/9)*(2/11)*(9/10) + (3/10)*(2/9)*(9/11)*(8/10)"
      ]
    },
    {
      "cell_type": "markdown",
      "metadata": {},
      "source": [
        "4.3 Какова вероятность того, что хотя бы один мяч белый?\n",
        "\n",
        "1 - вероятность что все черные"
      ]
    },
    {
      "cell_type": "code",
      "execution_count": 12,
      "metadata": {},
      "outputs": [
        {
          "data": {
            "text/plain": [
              "0.9987878787878788"
            ]
          },
          "execution_count": 12,
          "metadata": {},
          "output_type": "execute_result"
        }
      ],
      "source": [
        "1-(3/10*2/9*2/11*1/10)"
      ]
    }
  ],
  "metadata": {
    "kernelspec": {
      "display_name": "Python 3",
      "language": "python",
      "name": "python3"
    },
    "language_info": {
      "codemirror_mode": {
        "name": "ipython",
        "version": 3
      },
      "file_extension": ".py",
      "mimetype": "text/x-python",
      "name": "python",
      "nbconvert_exporter": "python",
      "pygments_lexer": "ipython3",
      "version": "3.11.6"
    }
  },
  "nbformat": 4,
  "nbformat_minor": 4
}
